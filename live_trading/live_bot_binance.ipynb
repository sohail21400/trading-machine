{
 "cells": [
  {
   "cell_type": "code",
   "execution_count": 19,
   "metadata": {},
   "outputs": [],
   "source": [
    "import pandas as pd\n",
    "import sqlalchemy as sa\n",
    "import websocket, json"
   ]
  },
  {
   "cell_type": "code",
   "execution_count": 20,
   "metadata": {},
   "outputs": [],
   "source": [
    "symbol = 'btcusdt'\n",
    "interval = '1m'\n",
    "\n",
    "socket = f'wss://stream.binance.com:9443/ws/{symbol}@kline_{interval}'"
   ]
  },
  {
   "cell_type": "code",
   "execution_count": 23,
   "metadata": {},
   "outputs": [],
   "source": [
    "params = {\n",
    "  \"method\": \"LIST_SUBSCRIPTIONS\",\n",
    "  \"id\": 3\n",
    "}\n",
    "\n",
    "def on_open(ws):\n",
    "    print('opened connection')\n",
    "    ws.send(json.dumps(params))\n",
    "\n",
    "def on_close(ws):\n",
    "    print('closed connection')\n",
    "\n",
    "def on_message(ws, message):\n",
    "    print('received message')\n",
    "    json_message = json.loads(message)\n",
    "    candle = json_message['k']\n",
    "    is_candle_closed = candle['x']\n",
    "    close = candle['c']\n",
    "\n",
    "    if is_candle_closed:\n",
    "        print('candle closed at {}'.format(close))\n",
    "\n",
    "ws = websocket.WebSocketApp(socket, on_open=on_open, on_close=on_close, on_message=on_message)\n"
   ]
  },
  {
   "cell_type": "code",
   "execution_count": null,
   "metadata": {},
   "outputs": [],
   "source": []
  },
  {
   "cell_type": "code",
   "execution_count": 24,
   "metadata": {},
   "outputs": [
    {
     "data": {
      "text/plain": [
       "True"
      ]
     },
     "execution_count": 24,
     "metadata": {},
     "output_type": "execute_result"
    }
   ],
   "source": [
    "ws.run_forever()"
   ]
  },
  {
   "cell_type": "code",
   "execution_count": null,
   "metadata": {},
   "outputs": [],
   "source": []
  }
 ],
 "metadata": {
  "kernelspec": {
   "display_name": "Python 3.8.8 64-bit",
   "language": "python",
   "name": "python3"
  },
  "language_info": {
   "codemirror_mode": {
    "name": "ipython",
    "version": 3
   },
   "file_extension": ".py",
   "mimetype": "text/x-python",
   "name": "python",
   "nbconvert_exporter": "python",
   "pygments_lexer": "ipython3",
   "version": "3.8.8"
  },
  "orig_nbformat": 4,
  "vscode": {
   "interpreter": {
    "hash": "aee8b7b246df8f9039afb4144a1f6fd8d2ca17a180786b69acc140d282b71a49"
   }
  }
 },
 "nbformat": 4,
 "nbformat_minor": 2
}
