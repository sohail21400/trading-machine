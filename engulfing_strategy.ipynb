{
 "cells": [
  {
   "cell_type": "markdown",
   "metadata": {},
   "source": [
    "## Topics covered\n",
    "1. Making socket url\n",
    "2. Providing all required parameters\n",
    "3. Create paper trading simulation platform\n",
    "4. Using websocket and Binance to extract real time crypto data\n",
    "5. Making and implementing the trading strategy\n",
    "6. Running the code and final result\n",
    "7. Analysing gain and loss"
   ]
  },
  {
   "cell_type": "code",
   "execution_count": 32,
   "metadata": {},
   "outputs": [],
   "source": [
    "import websocket, numpy as np, json"
   ]
  },
  {
   "cell_type": "code",
   "execution_count": 33,
   "metadata": {},
   "outputs": [],
   "source": [
    "symbol = \"btcusdt\"\n",
    "interval = \"1m\"\n",
    "socket = f\"wss://stream.binance.com:9443/ws/{symbol}@kline_{interval}\"\n",
    "\n",
    "amount = 1000\n",
    "core_trade_amount = 0.8 * amount\n",
    "trade_amount = 0.2 * amount\n",
    "core_quantity = 0\n",
    "\n",
    "# if core_to_trade == True, then we'll buy the entire 80% of the amount (core_trade_amount)\n",
    "core_to_trade = True\n",
    "\n",
    "portfolio = 0\n",
    "investment, real_time_portfolio_value = [], []\n",
    "closes, highs, lows, opens = [], [], [], []\n",
    "account_bal = amount\n",
    "\n"
   ]
  },
  {
   "cell_type": "code",
   "execution_count": 34,
   "metadata": {},
   "outputs": [],
   "source": [
    "# paper trading simulator\n",
    "def buy(allocated_money, price):\n",
    "    global portfolio, account_bal\n",
    "    quantity = allocated_money / price\n",
    "    portfolio += quantity\n",
    "    money_end -= allocated_money\n",
    "\n",
    "    if investment == []:\n",
    "        investment.append(allocated_money)\n",
    "    else:\n",
    "        investment.append(allocated_money)\n",
    "        investment[-1] += investment[-2]\n",
    "    return quantity\n",
    "\n",
    "\n",
    "def sell(allocated_money, price):\n",
    "    global portfolio, account_bal\n",
    "    quantity = allocated_money / price\n",
    "    money_end -= quantity * price\n",
    "    portfolio -= quantity\n",
    "\n",
    "    investment.append(-allocated_money)\n",
    "    investment[-1] += investment[-2]"
   ]
  },
  {
   "cell_type": "code",
   "execution_count": 35,
   "metadata": {},
   "outputs": [],
   "source": [
    "def on_message(ws, message):\n",
    "    global closes, highs, lows, opens, core_to_trade\n",
    "    message = json.loads(message)\n",
    "    # the actual data is in the 'k' key\n",
    "    # other keys are metadata\n",
    "    candle_stick = message[\"k\"]\n",
    "    candle_closed, close, open, high, low = candle_stick[\"x\"], candle_stick[\"c\"], candle_stick[\"o\"], candle_stick[\"h\"], candle_stick[\"l\"]\n",
    "    close, open, high, low = float(close), float(open), float(high), float(low)\n",
    "\n",
    "    # this socket gives data every second, but we've give interval as 1m\n",
    "    # so we'll only use the data when the candle is closed and that is represented by the x key\n",
    "    # if x is true, then the candle is closed\n",
    "    if candle_closed:\n",
    "        closes.append(close)\n",
    "        opens.append(open)\n",
    "        highs.append(high)\n",
    "        lows.append(low)\n",
    "        last_price = closes[-1]\n",
    "        \n",
    "        \n",
    "        print(f\"Closes: {closes}\")\n",
    "        print(\"close\", closes)\n",
    "        print(\"open\", opens)\n",
    "        print(\"high\", highs)\n",
    "        print(\"low\", lows)\n",
    "        print(\"last_price\", last_price)\n",
    "\n",
    "        # this will only happen once in the beginning\n",
    "        # we'll buy 80% of the amount, if core_to_trade is True\n",
    "        # irrepective of the engulfing pattern\n",
    "        if core_to_trade:\n",
    "            buy(core_trade_amount, last_price)\n",
    "            print(f\"Core investment: We bought {core_trade_amount} worth of {symbol} at {last_price}\")\n",
    "            core_quantity = core_trade_amount / last_price\n",
    "            core_to_trade = False\n",
    "            "
   ]
  },
  {
   "cell_type": "code",
   "execution_count": 36,
   "metadata": {},
   "outputs": [
    {
     "name": "stdout",
     "output_type": "stream",
     "text": [
      "Closes: [19178.0]\n",
      "close [19178.0]\n",
      "open [19186.23]\n",
      "high [19189.59]\n",
      "low [19175.33]\n",
      "last_price 19178.0\n",
      "Closes: [19178.0, 19172.93]\n",
      "close [19178.0, 19172.93]\n",
      "open [19186.23, 19177.46]\n",
      "high [19189.59, 19180.68]\n",
      "low [19175.33, 19170.0]\n",
      "last_price 19172.93\n",
      "Closes: [19178.0, 19172.93, 19170.26]\n",
      "close [19178.0, 19172.93, 19170.26]\n",
      "open [19186.23, 19177.46, 19173.65]\n",
      "high [19189.59, 19180.68, 19176.4]\n",
      "low [19175.33, 19170.0, 19170.0]\n",
      "last_price 19170.26\n"
     ]
    },
    {
     "data": {
      "text/plain": [
       "True"
      ]
     },
     "execution_count": 36,
     "metadata": {},
     "output_type": "execute_result"
    }
   ],
   "source": [
    "ws = websocket.WebSocketApp(socket, on_message=on_message)\n",
    "\n",
    "ws.run_forever()"
   ]
  },
  {
   "cell_type": "code",
   "execution_count": null,
   "metadata": {},
   "outputs": [],
   "source": []
  }
 ],
 "metadata": {
  "kernelspec": {
   "display_name": "Python 3.10.7 64-bit",
   "language": "python",
   "name": "python3"
  },
  "language_info": {
   "codemirror_mode": {
    "name": "ipython",
    "version": 3
   },
   "file_extension": ".py",
   "mimetype": "text/x-python",
   "name": "python",
   "nbconvert_exporter": "python",
   "pygments_lexer": "ipython3",
   "version": "3.8.8"
  },
  "orig_nbformat": 4,
  "vscode": {
   "interpreter": {
    "hash": "aee8b7b246df8f9039afb4144a1f6fd8d2ca17a180786b69acc140d282b71a49"
   }
  }
 },
 "nbformat": 4,
 "nbformat_minor": 2
}
