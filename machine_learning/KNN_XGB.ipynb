{
 "cells": [
  {
   "attachments": {},
   "cell_type": "markdown",
   "metadata": {},
   "source": [
    "# Code which trains model and save it in a file"
   ]
  },
  {
   "cell_type": "code",
   "execution_count": 101,
   "metadata": {
    "scrolled": true
   },
   "outputs": [],
   "source": [
    "import pandas as pd\n",
    "df = pd.read_csv(\"/Users/sohail21400/Desktop/trading_machine/data/EURUSD/EURUSD_Candlestick_4_Hour_ASK_05.05.2003-16.10.2021.csv\")\n",
    "pipdiff = 750*1e-5 #for TP\n",
    "TPSLRatio = 2 #pipdiff/Ratio gives SL"
   ]
  },
  {
   "cell_type": "code",
   "execution_count": 103,
   "metadata": {},
   "outputs": [
    {
     "data": {
      "text/plain": [
       "Gmt time    0\n",
       "open        0\n",
       "high        0\n",
       "low         0\n",
       "close       0\n",
       "volume      0\n",
       "dtype: int64"
      ]
     },
     "execution_count": 103,
     "metadata": {},
     "output_type": "execute_result"
    }
   ],
   "source": [
    "#Check if any zero volumes are available\n",
    "indexZeros = df[ df['volume'] == 0 ].index\n",
    "\n",
    "df.drop(indexZeros , inplace=True)\n",
    "df.loc[(df[\"volume\"] == 0 )]\n",
    "# df.isna().sum()"
   ]
  },
  {
   "attachments": {},
   "cell_type": "markdown",
   "metadata": {},
   "source": [
    "## Add technical indicators here"
   ]
  },
  {
   "cell_type": "code",
   "execution_count": 104,
   "metadata": {
    "scrolled": false
   },
   "outputs": [],
   "source": [
    "import numpy as np\n",
    "import pandas_ta as ta\n",
    "#df.ta.indicators()\n",
    "#help(ta.atr)\n",
    "df['ATR'] = df.ta.atr(length=20)\n",
    "df['RSI'] = df.ta.rsi()\n",
    "df['Average'] = df.ta.midprice(length=1, high=df['high'], low=df['low'], talib=False) #midprice\n",
    "df['MA40'] = df.ta.sma(length=40)\n",
    "df['MA80'] = df.ta.sma(length=80)\n",
    "df['MA160'] = df.ta.sma(length=160)\n",
    "\n",
    "from scipy.stats import linregress\n",
    "def get_slope(array):\n",
    "    y = np.array(array)\n",
    "    x = np.arange(len(y))\n",
    "    slope, intercept, r_value, p_value, std_err = linregress(x,y)\n",
    "    return slope\n",
    "\n",
    "#!!!!!!!!!!!!!!!!!!!!!!!!!!!!!\n",
    "backrollingN = 6\n",
    "#!!!!!!!!!!!!!!!!!!!!!!!!!!!!!\n",
    "df['slopeMA40'] = df['MA40'].rolling(window=backrollingN).apply(get_slope, raw=True)\n",
    "df['slopeMA80'] = df['MA80'].rolling(window=backrollingN).apply(get_slope, raw=True)\n",
    "df['slopeMA160'] = df['MA160'].rolling(window=backrollingN).apply(get_slope, raw=True)\n",
    "df['AverageSlope'] = df['Average'].rolling(window=backrollingN).apply(get_slope, raw=True)\n",
    "df['RSISlope'] = df['RSI'].rolling(window=backrollingN).apply(get_slope, raw=True)"
   ]
  },
  {
   "cell_type": "code",
   "execution_count": 105,
   "metadata": {
    "scrolled": true
   },
   "outputs": [
    {
     "data": {
      "text/html": [
       "<div>\n",
       "<style scoped>\n",
       "    .dataframe tbody tr th:only-of-type {\n",
       "        vertical-align: middle;\n",
       "    }\n",
       "\n",
       "    .dataframe tbody tr th {\n",
       "        vertical-align: top;\n",
       "    }\n",
       "\n",
       "    .dataframe thead th {\n",
       "        text-align: right;\n",
       "    }\n",
       "</style>\n",
       "<table border=\"1\" class=\"dataframe\">\n",
       "  <thead>\n",
       "    <tr style=\"text-align: right;\">\n",
       "      <th></th>\n",
       "      <th>Gmt time</th>\n",
       "      <th>open</th>\n",
       "      <th>high</th>\n",
       "      <th>low</th>\n",
       "      <th>close</th>\n",
       "      <th>volume</th>\n",
       "      <th>ATR</th>\n",
       "      <th>RSI</th>\n",
       "      <th>Average</th>\n",
       "      <th>MA40</th>\n",
       "      <th>MA80</th>\n",
       "      <th>MA160</th>\n",
       "      <th>slopeMA40</th>\n",
       "      <th>slopeMA80</th>\n",
       "      <th>slopeMA160</th>\n",
       "      <th>AverageSlope</th>\n",
       "      <th>RSISlope</th>\n",
       "    </tr>\n",
       "  </thead>\n",
       "  <tbody>\n",
       "    <tr>\n",
       "      <th>28855</th>\n",
       "      <td>15.10.2021 01:00:00.000</td>\n",
       "      <td>1.15940</td>\n",
       "      <td>1.16120</td>\n",
       "      <td>1.15938</td>\n",
       "      <td>1.16082</td>\n",
       "      <td>5738.63</td>\n",
       "      <td>0.001947</td>\n",
       "      <td>59.946065</td>\n",
       "      <td>1.160290</td>\n",
       "      <td>1.156618</td>\n",
       "      <td>1.159121</td>\n",
       "      <td>1.167880</td>\n",
       "      <td>0.000054</td>\n",
       "      <td>-0.000132</td>\n",
       "      <td>-0.000149</td>\n",
       "      <td>-0.000162</td>\n",
       "      <td>-1.237279</td>\n",
       "    </tr>\n",
       "    <tr>\n",
       "      <th>28856</th>\n",
       "      <td>15.10.2021 05:00:00.000</td>\n",
       "      <td>1.16082</td>\n",
       "      <td>1.16189</td>\n",
       "      <td>1.15995</td>\n",
       "      <td>1.16034</td>\n",
       "      <td>13149.66</td>\n",
       "      <td>0.001947</td>\n",
       "      <td>58.038673</td>\n",
       "      <td>1.160920</td>\n",
       "      <td>1.156768</td>\n",
       "      <td>1.159014</td>\n",
       "      <td>1.167745</td>\n",
       "      <td>0.000090</td>\n",
       "      <td>-0.000125</td>\n",
       "      <td>-0.000145</td>\n",
       "      <td>0.000035</td>\n",
       "      <td>-0.095942</td>\n",
       "    </tr>\n",
       "    <tr>\n",
       "      <th>28857</th>\n",
       "      <td>15.10.2021 09:00:00.000</td>\n",
       "      <td>1.16033</td>\n",
       "      <td>1.16124</td>\n",
       "      <td>1.15892</td>\n",
       "      <td>1.15923</td>\n",
       "      <td>14914.33</td>\n",
       "      <td>0.001965</td>\n",
       "      <td>53.777344</td>\n",
       "      <td>1.160080</td>\n",
       "      <td>1.156853</td>\n",
       "      <td>1.158880</td>\n",
       "      <td>1.167604</td>\n",
       "      <td>0.000115</td>\n",
       "      <td>-0.000123</td>\n",
       "      <td>-0.000140</td>\n",
       "      <td>0.000233</td>\n",
       "      <td>0.033494</td>\n",
       "    </tr>\n",
       "    <tr>\n",
       "      <th>28858</th>\n",
       "      <td>15.10.2021 13:00:00.000</td>\n",
       "      <td>1.15923</td>\n",
       "      <td>1.16103</td>\n",
       "      <td>1.15893</td>\n",
       "      <td>1.15953</td>\n",
       "      <td>20002.53</td>\n",
       "      <td>0.001972</td>\n",
       "      <td>54.744468</td>\n",
       "      <td>1.159980</td>\n",
       "      <td>1.156944</td>\n",
       "      <td>1.158774</td>\n",
       "      <td>1.167468</td>\n",
       "      <td>0.000122</td>\n",
       "      <td>-0.000118</td>\n",
       "      <td>-0.000137</td>\n",
       "      <td>0.000164</td>\n",
       "      <td>-0.619952</td>\n",
       "    </tr>\n",
       "    <tr>\n",
       "      <th>28859</th>\n",
       "      <td>15.10.2021 17:00:00.000</td>\n",
       "      <td>1.15952</td>\n",
       "      <td>1.16060</td>\n",
       "      <td>1.15933</td>\n",
       "      <td>1.16040</td>\n",
       "      <td>5620.05</td>\n",
       "      <td>0.001937</td>\n",
       "      <td>57.520290</td>\n",
       "      <td>1.159965</td>\n",
       "      <td>1.157065</td>\n",
       "      <td>1.158678</td>\n",
       "      <td>1.167336</td>\n",
       "      <td>0.000117</td>\n",
       "      <td>-0.000113</td>\n",
       "      <td>-0.000136</td>\n",
       "      <td>0.000028</td>\n",
       "      <td>-0.346306</td>\n",
       "    </tr>\n",
       "  </tbody>\n",
       "</table>\n",
       "</div>"
      ],
      "text/plain": [
       "                      Gmt time     open     high      low    close    volume  \\\n",
       "28855  15.10.2021 01:00:00.000  1.15940  1.16120  1.15938  1.16082   5738.63   \n",
       "28856  15.10.2021 05:00:00.000  1.16082  1.16189  1.15995  1.16034  13149.66   \n",
       "28857  15.10.2021 09:00:00.000  1.16033  1.16124  1.15892  1.15923  14914.33   \n",
       "28858  15.10.2021 13:00:00.000  1.15923  1.16103  1.15893  1.15953  20002.53   \n",
       "28859  15.10.2021 17:00:00.000  1.15952  1.16060  1.15933  1.16040   5620.05   \n",
       "\n",
       "            ATR        RSI   Average      MA40      MA80     MA160  slopeMA40  \\\n",
       "28855  0.001947  59.946065  1.160290  1.156618  1.159121  1.167880   0.000054   \n",
       "28856  0.001947  58.038673  1.160920  1.156768  1.159014  1.167745   0.000090   \n",
       "28857  0.001965  53.777344  1.160080  1.156853  1.158880  1.167604   0.000115   \n",
       "28858  0.001972  54.744468  1.159980  1.156944  1.158774  1.167468   0.000122   \n",
       "28859  0.001937  57.520290  1.159965  1.157065  1.158678  1.167336   0.000117   \n",
       "\n",
       "       slopeMA80  slopeMA160  AverageSlope  RSISlope  \n",
       "28855  -0.000132   -0.000149     -0.000162 -1.237279  \n",
       "28856  -0.000125   -0.000145      0.000035 -0.095942  \n",
       "28857  -0.000123   -0.000140      0.000233  0.033494  \n",
       "28858  -0.000118   -0.000137      0.000164 -0.619952  \n",
       "28859  -0.000113   -0.000136      0.000028 -0.346306  "
      ]
     },
     "execution_count": 105,
     "metadata": {},
     "output_type": "execute_result"
    }
   ],
   "source": [
    "df.tail()"
   ]
  },
  {
   "attachments": {},
   "cell_type": "markdown",
   "metadata": {},
   "source": [
    "## Target category definition"
   ]
  },
  {
   "cell_type": "code",
   "execution_count": 106,
   "metadata": {},
   "outputs": [],
   "source": [
    "# TODO: Understand this function\n",
    "\n",
    "# on the fuction call, barsupfront is given as 16\n",
    "def mytarget(barsupfront, df1):\n",
    "    length = len(df1)\n",
    "    high = list(df1['high'])\n",
    "    low = list(df1['low'])\n",
    "    close = list(df1['close'])\n",
    "    open = list(df1['open'])\n",
    "    trendcat = [None] * length\n",
    "    \n",
    "    for line in range (0,length-barsupfront-2):\n",
    "        valueOpenLow = 0\n",
    "        valueOpenHigh = 0\n",
    "        for i in range(1,barsupfront+2):\n",
    "            value1 = open[line+1]-low[line+i]\n",
    "            value2 = open[line+1]-high[line+i]\n",
    "            valueOpenLow = max(value1, valueOpenLow)\n",
    "            valueOpenHigh = min(value2, valueOpenHigh)\n",
    "\n",
    "            if ( (valueOpenLow >= pipdiff) and (-valueOpenHigh <= (pipdiff/TPSLRatio)) ):\n",
    "                trendcat[line] = -1 #-1 downtrend\n",
    "                break\n",
    "            elif ( (valueOpenLow <= (pipdiff/TPSLRatio)) and (-valueOpenHigh >= pipdiff) ):\n",
    "                trendcat[line] = 1 # uptrend\n",
    "                break\n",
    "            else:\n",
    "                trendcat[line] = 0 # no clear trend\n",
    "            \n",
    "    return trendcat"
   ]
  },
  {
   "cell_type": "code",
   "execution_count": 107,
   "metadata": {
    "scrolled": true
   },
   "outputs": [
    {
     "data": {
      "text/html": [
       "<div>\n",
       "<style scoped>\n",
       "    .dataframe tbody tr th:only-of-type {\n",
       "        vertical-align: middle;\n",
       "    }\n",
       "\n",
       "    .dataframe tbody tr th {\n",
       "        vertical-align: top;\n",
       "    }\n",
       "\n",
       "    .dataframe thead th {\n",
       "        text-align: right;\n",
       "    }\n",
       "</style>\n",
       "<table border=\"1\" class=\"dataframe\">\n",
       "  <thead>\n",
       "    <tr style=\"text-align: right;\">\n",
       "      <th></th>\n",
       "      <th>Gmt time</th>\n",
       "      <th>open</th>\n",
       "      <th>high</th>\n",
       "      <th>low</th>\n",
       "      <th>close</th>\n",
       "      <th>volume</th>\n",
       "      <th>ATR</th>\n",
       "      <th>RSI</th>\n",
       "      <th>Average</th>\n",
       "      <th>MA40</th>\n",
       "      <th>MA80</th>\n",
       "      <th>MA160</th>\n",
       "      <th>slopeMA40</th>\n",
       "      <th>slopeMA80</th>\n",
       "      <th>slopeMA160</th>\n",
       "      <th>AverageSlope</th>\n",
       "      <th>RSISlope</th>\n",
       "      <th>mytarget</th>\n",
       "    </tr>\n",
       "  </thead>\n",
       "  <tbody>\n",
       "    <tr>\n",
       "      <th>28855</th>\n",
       "      <td>15.10.2021 01:00:00.000</td>\n",
       "      <td>1.15940</td>\n",
       "      <td>1.16120</td>\n",
       "      <td>1.15938</td>\n",
       "      <td>1.16082</td>\n",
       "      <td>5738.63</td>\n",
       "      <td>0.001947</td>\n",
       "      <td>59.946065</td>\n",
       "      <td>1.160290</td>\n",
       "      <td>1.156618</td>\n",
       "      <td>1.159121</td>\n",
       "      <td>1.167880</td>\n",
       "      <td>0.000054</td>\n",
       "      <td>-0.000132</td>\n",
       "      <td>-0.000149</td>\n",
       "      <td>-0.000162</td>\n",
       "      <td>-1.237279</td>\n",
       "      <td>NaN</td>\n",
       "    </tr>\n",
       "    <tr>\n",
       "      <th>28856</th>\n",
       "      <td>15.10.2021 05:00:00.000</td>\n",
       "      <td>1.16082</td>\n",
       "      <td>1.16189</td>\n",
       "      <td>1.15995</td>\n",
       "      <td>1.16034</td>\n",
       "      <td>13149.66</td>\n",
       "      <td>0.001947</td>\n",
       "      <td>58.038673</td>\n",
       "      <td>1.160920</td>\n",
       "      <td>1.156768</td>\n",
       "      <td>1.159014</td>\n",
       "      <td>1.167745</td>\n",
       "      <td>0.000090</td>\n",
       "      <td>-0.000125</td>\n",
       "      <td>-0.000145</td>\n",
       "      <td>0.000035</td>\n",
       "      <td>-0.095942</td>\n",
       "      <td>NaN</td>\n",
       "    </tr>\n",
       "    <tr>\n",
       "      <th>28857</th>\n",
       "      <td>15.10.2021 09:00:00.000</td>\n",
       "      <td>1.16033</td>\n",
       "      <td>1.16124</td>\n",
       "      <td>1.15892</td>\n",
       "      <td>1.15923</td>\n",
       "      <td>14914.33</td>\n",
       "      <td>0.001965</td>\n",
       "      <td>53.777344</td>\n",
       "      <td>1.160080</td>\n",
       "      <td>1.156853</td>\n",
       "      <td>1.158880</td>\n",
       "      <td>1.167604</td>\n",
       "      <td>0.000115</td>\n",
       "      <td>-0.000123</td>\n",
       "      <td>-0.000140</td>\n",
       "      <td>0.000233</td>\n",
       "      <td>0.033494</td>\n",
       "      <td>NaN</td>\n",
       "    </tr>\n",
       "    <tr>\n",
       "      <th>28858</th>\n",
       "      <td>15.10.2021 13:00:00.000</td>\n",
       "      <td>1.15923</td>\n",
       "      <td>1.16103</td>\n",
       "      <td>1.15893</td>\n",
       "      <td>1.15953</td>\n",
       "      <td>20002.53</td>\n",
       "      <td>0.001972</td>\n",
       "      <td>54.744468</td>\n",
       "      <td>1.159980</td>\n",
       "      <td>1.156944</td>\n",
       "      <td>1.158774</td>\n",
       "      <td>1.167468</td>\n",
       "      <td>0.000122</td>\n",
       "      <td>-0.000118</td>\n",
       "      <td>-0.000137</td>\n",
       "      <td>0.000164</td>\n",
       "      <td>-0.619952</td>\n",
       "      <td>NaN</td>\n",
       "    </tr>\n",
       "    <tr>\n",
       "      <th>28859</th>\n",
       "      <td>15.10.2021 17:00:00.000</td>\n",
       "      <td>1.15952</td>\n",
       "      <td>1.16060</td>\n",
       "      <td>1.15933</td>\n",
       "      <td>1.16040</td>\n",
       "      <td>5620.05</td>\n",
       "      <td>0.001937</td>\n",
       "      <td>57.520290</td>\n",
       "      <td>1.159965</td>\n",
       "      <td>1.157065</td>\n",
       "      <td>1.158678</td>\n",
       "      <td>1.167336</td>\n",
       "      <td>0.000117</td>\n",
       "      <td>-0.000113</td>\n",
       "      <td>-0.000136</td>\n",
       "      <td>0.000028</td>\n",
       "      <td>-0.346306</td>\n",
       "      <td>NaN</td>\n",
       "    </tr>\n",
       "  </tbody>\n",
       "</table>\n",
       "</div>"
      ],
      "text/plain": [
       "                      Gmt time     open     high      low    close    volume  \\\n",
       "28855  15.10.2021 01:00:00.000  1.15940  1.16120  1.15938  1.16082   5738.63   \n",
       "28856  15.10.2021 05:00:00.000  1.16082  1.16189  1.15995  1.16034  13149.66   \n",
       "28857  15.10.2021 09:00:00.000  1.16033  1.16124  1.15892  1.15923  14914.33   \n",
       "28858  15.10.2021 13:00:00.000  1.15923  1.16103  1.15893  1.15953  20002.53   \n",
       "28859  15.10.2021 17:00:00.000  1.15952  1.16060  1.15933  1.16040   5620.05   \n",
       "\n",
       "            ATR        RSI   Average      MA40      MA80     MA160  slopeMA40  \\\n",
       "28855  0.001947  59.946065  1.160290  1.156618  1.159121  1.167880   0.000054   \n",
       "28856  0.001947  58.038673  1.160920  1.156768  1.159014  1.167745   0.000090   \n",
       "28857  0.001965  53.777344  1.160080  1.156853  1.158880  1.167604   0.000115   \n",
       "28858  0.001972  54.744468  1.159980  1.156944  1.158774  1.167468   0.000122   \n",
       "28859  0.001937  57.520290  1.159965  1.157065  1.158678  1.167336   0.000117   \n",
       "\n",
       "       slopeMA80  slopeMA160  AverageSlope  RSISlope  mytarget  \n",
       "28855  -0.000132   -0.000149     -0.000162 -1.237279       NaN  \n",
       "28856  -0.000125   -0.000145      0.000035 -0.095942       NaN  \n",
       "28857  -0.000123   -0.000140      0.000233  0.033494       NaN  \n",
       "28858  -0.000118   -0.000137      0.000164 -0.619952       NaN  \n",
       "28859  -0.000113   -0.000136      0.000028 -0.346306       NaN  "
      ]
     },
     "execution_count": 107,
     "metadata": {},
     "output_type": "execute_result"
    }
   ],
   "source": [
    "# mytarget(barsfront to take into account, dataframe)\n",
    "df['mytarget'] = mytarget(16, df)\n",
    "df.tail()"
   ]
  },
  {
   "cell_type": "code",
   "execution_count": 108,
   "metadata": {},
   "outputs": [
    {
     "name": "stdout",
     "output_type": "stream",
     "text": [
      "            ATR        RSI   Average      MA40      MA80     MA160  slopeMA40  \\\n",
      "165    0.004686  47.386440  1.170530  1.172736  1.176061  1.164331  -0.000036   \n",
      "166    0.004764  55.656988  1.173140  1.172750  1.176156  1.164627  -0.000027   \n",
      "167    0.004734  57.204264  1.176115  1.172805  1.176219  1.164922  -0.000018   \n",
      "168    0.004633  53.170867  1.175325  1.172772  1.176158  1.165207  -0.000010   \n",
      "169    0.004554  55.081529  1.174810  1.172729  1.176124  1.165468  -0.000010   \n",
      "...         ...        ...       ...       ...       ...       ...        ...   \n",
      "28837  0.001848  42.935233  1.155445  1.157715  1.162374  1.171109  -0.000059   \n",
      "28838  0.001830  46.375154  1.156295  1.157628  1.162216  1.170905  -0.000075   \n",
      "28839  0.001907  37.631843  1.155025  1.157479  1.162006  1.170693  -0.000098   \n",
      "28840  0.001937  33.174435  1.153790  1.157292  1.161765  1.170473  -0.000121   \n",
      "28841  0.001894  34.656247  1.152975  1.157129  1.161517  1.170262  -0.000141   \n",
      "\n",
      "       slopeMA80  slopeMA160  AverageSlope  RSISlope  \n",
      "165    -0.000015    0.000285     -0.000281  0.051113  \n",
      "166    -0.000001    0.000284      0.000709  2.391919  \n",
      "167     0.000028    0.000286      0.001648  3.651651  \n",
      "168     0.000033    0.000287      0.001967  3.305294  \n",
      "169     0.000023    0.000284      0.001582  2.428904  \n",
      "...          ...         ...           ...       ...  \n",
      "28837  -0.000211   -0.000202     -0.000431 -1.216677  \n",
      "28838  -0.000201   -0.000204     -0.000170  0.217771  \n",
      "28839  -0.000193   -0.000206     -0.000265 -0.328802  \n",
      "28840  -0.000194   -0.000209     -0.000277 -0.951448  \n",
      "28841  -0.000204   -0.000212     -0.000519 -1.615831  \n",
      "\n",
      "[28644 rows x 11 columns]\n"
     ]
    }
   ],
   "source": [
    "df_model= df[['volume', 'ATR', 'RSI', 'Average', 'MA40', 'MA80', 'MA160', 'slopeMA40', 'slopeMA80', 'slopeMA160', 'AverageSlope', 'RSISlope', 'mytarget']] \n",
    "df_model = df_model.dropna()\n",
    "\n",
    "\n",
    "\n",
    "\n",
    "attributes=['ATR', 'RSI', 'Average', 'MA40', 'MA80', 'MA160', 'slopeMA40', 'slopeMA80', 'slopeMA160', 'AverageSlope', 'RSISlope']\n",
    "X = df_model[attributes]\n",
    "y = df_model[\"mytarget\"]\n",
    "\n",
    "print(X)"
   ]
  },
  {
   "cell_type": "code",
   "execution_count": 109,
   "metadata": {},
   "outputs": [],
   "source": [
    "from sklearn.model_selection import train_test_split\n",
    "# this chooses 20% of the data for testing and 80% for training randomly\n",
    "# this is not the correct way to do it, but it's a start\n",
    "X_train, X_test, y_train, y_test = train_test_split(X, y, test_size=0.2, random_state=1)"
   ]
  },
  {
   "cell_type": "markdown",
   "metadata": {},
   "source": [
    "## Fitting the KNN model"
   ]
  },
  {
   "cell_type": "code",
   "execution_count": 110,
   "metadata": {},
   "outputs": [],
   "source": [
    "from sklearn.neighbors import KNeighborsClassifier\n",
    "\n",
    "knn_model = KNeighborsClassifier(n_neighbors=200, weights='uniform', algorithm='kd_tree', leaf_size=30, p=1, metric='minkowski', metric_params=None, n_jobs=1)\n",
    "knn_model.fit(X_train, y_train)\n",
    "\n",
    "y_pred_train = knn_model.predict(X_train)\n",
    "y_pred_test = knn_model.predict(X_test)"
   ]
  },
  {
   "cell_type": "markdown",
   "metadata": {},
   "source": [
    "## Quick evaluation of our fitting"
   ]
  },
  {
   "cell_type": "code",
   "execution_count": 111,
   "metadata": {},
   "outputs": [
    {
     "name": "stdout",
     "output_type": "stream",
     "text": [
      "Accuracy train: 41.58%\n",
      "Accuracy test: 40.20%\n",
      "0.0    40.654238\n",
      "2.0    30.432202\n",
      "1.0    28.913560\n",
      "Name: mytarget, dtype: float64\n",
      "Accuracy Gambler: 32.52%\n"
     ]
    }
   ],
   "source": [
    "from sklearn.metrics import accuracy_score\n",
    "accuracy_train = accuracy_score(y_train, y_pred_train)\n",
    "accuracy_test = accuracy_score(y_test, y_pred_test)\n",
    "print(\"Accuracy train: %.2f%%\" % (accuracy_train * 100.0))\n",
    "print(\"Accuracy test: %.2f%%\" % (accuracy_test * 100.0))\n",
    "\n",
    "#------------------------------------------------------------------\n",
    "#--- How should I compare my accuracy ?\n",
    "print(df_model['mytarget'].value_counts()*100/df_model['mytarget'].count())\n",
    "\n",
    "# Random Model, gambler?\n",
    "pred_test = np.random.choice([0, 1, 2], len(y_pred_test))\n",
    "accuracy_test = accuracy_score(y_test, pred_test)\n",
    "print(\"Accuracy Gambler: %.2f%%\" % (accuracy_test * 100.0))"
   ]
  },
  {
   "attachments": {},
   "cell_type": "markdown",
   "metadata": {},
   "source": [
    "## XGBoost"
   ]
  },
  {
   "cell_type": "code",
   "execution_count": 112,
   "metadata": {},
   "outputs": [
    {
     "name": "stdout",
     "output_type": "stream",
     "text": [
      "****Train Results****\n",
      "Accuracy: 84.0847%\n",
      "****Test Results****\n",
      "Accuracy: 58.8584%\n"
     ]
    }
   ],
   "source": [
    "from xgboost import XGBClassifier\n",
    "xgb_model = XGBClassifier()\n",
    "xgb_model.fit(X_train, y_train)\n",
    "pred_train = xgb_model.predict(X_train)\n",
    "pred_test = xgb_model.predict(X_test)\n",
    "acc_train = accuracy_score(y_train, pred_train)\n",
    "acc_test = accuracy_score(y_test, pred_test)\n",
    "print('****Train Results****')\n",
    "print(\"Accuracy: {:.4%}\".format(acc_train))\n",
    "print('****Test Results****')\n",
    "print(\"Accuracy: {:.4%}\".format(acc_test))"
   ]
  },
  {
   "attachments": {},
   "cell_type": "markdown",
   "metadata": {},
   "source": [
    "## Data sampling shouldn't be random!"
   ]
  },
  {
   "cell_type": "code",
   "execution_count": 113,
   "metadata": {},
   "outputs": [
    {
     "name": "stderr",
     "output_type": "stream",
     "text": [
      "/var/folders/9j/zg2w0vvd4kd1c9dmf275gb2h0000gn/T/ipykernel_79090/3584703116.py:7: FutureWarning:\n",
      "\n",
      "The behavior of `series[i:j]` with an integer-dtype index is deprecated. In a future version, this will be treated as *label-based* indexing, consistent with e.g. `series[i]` lookups. To retain the old behavior, use `series.iloc[i:j]`. To get the future behavior, use `series.loc[i:j]`.\n",
      "\n"
     ]
    },
    {
     "name": "stdout",
     "output_type": "stream",
     "text": [
      "****Train Results****\n",
      "Accuracy: 85.7561%\n",
      "****Test Results****\n",
      "Accuracy: 33.5835%\n"
     ]
    }
   ],
   "source": [
    "#random sampling\n",
    "#X_train, X_test, y_train, y_test = train_test_split(X, y, test_size=0.2, random_state=10)\n",
    "\n",
    "#sequential sampling\n",
    "train_index = int(0.8 * len(X))\n",
    "X_train, X_test = X[:train_index], X[train_index:]\n",
    "y_train, y_test = y[:train_index], y[train_index:]\n",
    "\n",
    "xgb_model = XGBClassifier()\n",
    "xgb_model.fit(X_train, y_train)\n",
    "pred_train = xgb_model.predict(X_train)\n",
    "pred_test = xgb_model.predict(X_test)\n",
    "acc_train = accuracy_score(y_train, pred_train)\n",
    "acc_test = accuracy_score(y_test, pred_test)\n",
    "print('****Train Results****')\n",
    "print(\"Accuracy: {:.4%}\".format(acc_train))\n",
    "print('****Test Results****')\n",
    "print(\"Accuracy: {:.4%}\".format(acc_test))"
   ]
  },
  {
   "cell_type": "code",
   "execution_count": 114,
   "metadata": {},
   "outputs": [
    {
     "data": {
      "image/png": "[encoded data removed]",
      "text/plain": [
       "<Figure size 640x480 with 1 Axes>"
      ]
     },
     "metadata": {},
     "output_type": "display_data"
    }
   ],
   "source": [
    "from matplotlib import pyplot\n",
    "from xgboost import plot_importance\n",
    "#plot feature importance\n",
    "plot_importance(xgb_model)\n",
    "pyplot.show()"
   ]
  },
  {
   "attachments": {},
   "cell_type": "markdown",
   "metadata": {},
   "source": [
    "### SAVING THE XGB MODEL INTO A FILE"
   ]
  },
  {
   "cell_type": "code",
   "execution_count": 126,
   "metadata": {},
   "outputs": [],
   "source": [
    "import pickle\n",
    "import xgboost as xgb\n",
    "\n",
    "# Assuming `model` is your XGBoost model object\n",
    "filename = 'xgb_model.pickle'\n",
    "pickle.dump(xgb_model, open(filename, 'wb'))"
   ]
  },
  {
   "attachments": {},
   "cell_type": "markdown",
   "metadata": {},
   "source": [
    "### LOADING THE SAVED MODEL"
   ]
  },
  {
   "cell_type": "code",
   "execution_count": 127,
   "metadata": {},
   "outputs": [],
   "source": [
    "loaded_model = pickle.load(open(filename, 'rb'))"
   ]
  },
  {
   "cell_type": "code",
   "execution_count": 121,
   "metadata": {},
   "outputs": [
    {
     "data": {
      "text/plain": [
       "28644"
      ]
     },
     "execution_count": 121,
     "metadata": {},
     "output_type": "execute_result"
    }
   ],
   "source": [
    "len(X)"
   ]
  },
  {
   "cell_type": "code",
   "execution_count": 122,
   "metadata": {},
   "outputs": [
    {
     "data": {
      "text/html": [
       "<div>\n",
       "<style scoped>\n",
       "    .dataframe tbody tr th:only-of-type {\n",
       "        vertical-align: middle;\n",
       "    }\n",
       "\n",
       "    .dataframe tbody tr th {\n",
       "        vertical-align: top;\n",
       "    }\n",
       "\n",
       "    .dataframe thead th {\n",
       "        text-align: right;\n",
       "    }\n",
       "</style>\n",
       "<table border=\"1\" class=\"dataframe\">\n",
       "  <thead>\n",
       "    <tr style=\"text-align: right;\">\n",
       "      <th></th>\n",
       "      <th>ATR</th>\n",
       "      <th>RSI</th>\n",
       "      <th>Average</th>\n",
       "      <th>MA40</th>\n",
       "      <th>MA80</th>\n",
       "      <th>MA160</th>\n",
       "      <th>slopeMA40</th>\n",
       "      <th>slopeMA80</th>\n",
       "      <th>slopeMA160</th>\n",
       "      <th>AverageSlope</th>\n",
       "      <th>RSISlope</th>\n",
       "    </tr>\n",
       "  </thead>\n",
       "  <tbody>\n",
       "    <tr>\n",
       "      <th>28798</th>\n",
       "      <td>0.002195</td>\n",
       "      <td>38.661931</td>\n",
       "      <td>1.15957</td>\n",
       "      <td>1.166804</td>\n",
       "      <td>1.171256</td>\n",
       "      <td>1.176846</td>\n",
       "      <td>-0.000327</td>\n",
       "      <td>-0.000283</td>\n",
       "      <td>-0.000107</td>\n",
       "      <td>0.000435</td>\n",
       "      <td>3.390087</td>\n",
       "    </tr>\n",
       "  </tbody>\n",
       "</table>\n",
       "</div>"
      ],
      "text/plain": [
       "            ATR        RSI  Average      MA40      MA80     MA160  slopeMA40  \\\n",
       "28798  0.002195  38.661931  1.15957  1.166804  1.171256  1.176846  -0.000327   \n",
       "\n",
       "       slopeMA80  slopeMA160  AverageSlope  RSISlope  \n",
       "28798  -0.000283   -0.000107      0.000435  3.390087  "
      ]
     },
     "execution_count": 122,
     "metadata": {},
     "output_type": "execute_result"
    }
   ],
   "source": [
    "X.iloc[28600].to_frame().T"
   ]
  },
  {
   "cell_type": "code",
   "execution_count": 128,
   "metadata": {},
   "outputs": [
    {
     "data": {
      "text/plain": [
       "array([0])"
      ]
     },
     "execution_count": 128,
     "metadata": {},
     "output_type": "execute_result"
    }
   ],
   "source": [
    "loaded_model.predict(X.iloc[28600].to_frame().T)"
   ]
  },
  {
   "cell_type": "code",
   "execution_count": 124,
   "metadata": {},
   "outputs": [
    {
     "data": {
      "text/plain": [
       "0.0"
      ]
     },
     "execution_count": 124,
     "metadata": {},
     "output_type": "execute_result"
    }
   ],
   "source": [
    "df_model['mytarget'].iloc[28600]"
   ]
  },
  {
   "attachments": {},
   "cell_type": "markdown",
   "metadata": {},
   "source": [
    "## PLOTING THE PREDICTED VS ACTUAL TREND VALUE"
   ]
  },
  {
   "cell_type": "code",
   "execution_count": 120,
   "metadata": {},
   "outputs": [
    {
     "ename": "KeyboardInterrupt",
     "evalue": "",
     "output_type": "error",
     "traceback": [
      "\u001b[0;31m---------------------------------------------------------------------------\u001b[0m",
      "\u001b[0;31mKeyboardInterrupt\u001b[0m                         Traceback (most recent call last)",
      "Cell \u001b[0;32mIn [120], line 9\u001b[0m\n\u001b[1;32m      7\u001b[0m predicted \u001b[39m=\u001b[39m []\n\u001b[1;32m      8\u001b[0m \u001b[39mfor\u001b[39;00m i \u001b[39min\u001b[39;00m \u001b[39mrange\u001b[39m(\u001b[39m0\u001b[39m, \u001b[39mlen\u001b[39m(X)):\n\u001b[0;32m----> 9\u001b[0m     predicted\u001b[39m.\u001b[39mappend(model\u001b[39m.\u001b[39;49mpredict(X\u001b[39m.\u001b[39;49miloc[i]\u001b[39m.\u001b[39;49mto_frame()\u001b[39m.\u001b[39;49mT)[\u001b[39m0\u001b[39m])\n\u001b[1;32m     11\u001b[0m actual \u001b[39m=\u001b[39m pd\u001b[39m.\u001b[39mSeries(actual)\n\u001b[1;32m     12\u001b[0m predicted \u001b[39m=\u001b[39m pd\u001b[39m.\u001b[39mSeries(predicted)\n",
      "File \u001b[0;32m/Library/Frameworks/Python.framework/Versions/3.8/lib/python3.8/site-packages/xgboost/sklearn.py:1551\u001b[0m, in \u001b[0;36mXGBClassifier.predict\u001b[0;34m(self, X, output_margin, ntree_limit, validate_features, base_margin, iteration_range)\u001b[0m\n\u001b[1;32m   1541\u001b[0m \u001b[39mdef\u001b[39;00m \u001b[39mpredict\u001b[39m(\n\u001b[1;32m   1542\u001b[0m     \u001b[39mself\u001b[39m,\n\u001b[1;32m   1543\u001b[0m     X: ArrayLike,\n\u001b[0;32m   (...)\u001b[0m\n\u001b[1;32m   1548\u001b[0m     iteration_range: Optional[Tuple[\u001b[39mint\u001b[39m, \u001b[39mint\u001b[39m]] \u001b[39m=\u001b[39m \u001b[39mNone\u001b[39;00m,\n\u001b[1;32m   1549\u001b[0m ) \u001b[39m-\u001b[39m\u001b[39m>\u001b[39m np\u001b[39m.\u001b[39mndarray:\n\u001b[1;32m   1550\u001b[0m     \u001b[39mwith\u001b[39;00m config_context(verbosity\u001b[39m=\u001b[39m\u001b[39mself\u001b[39m\u001b[39m.\u001b[39mverbosity):\n\u001b[0;32m-> 1551\u001b[0m         class_probs \u001b[39m=\u001b[39m \u001b[39msuper\u001b[39;49m()\u001b[39m.\u001b[39;49mpredict(\n\u001b[1;32m   1552\u001b[0m             X\u001b[39m=\u001b[39;49mX,\n\u001b[1;32m   1553\u001b[0m             output_margin\u001b[39m=\u001b[39;49moutput_margin,\n\u001b[1;32m   1554\u001b[0m             ntree_limit\u001b[39m=\u001b[39;49mntree_limit,\n\u001b[1;32m   1555\u001b[0m             validate_features\u001b[39m=\u001b[39;49mvalidate_features,\n\u001b[1;32m   1556\u001b[0m             base_margin\u001b[39m=\u001b[39;49mbase_margin,\n\u001b[1;32m   1557\u001b[0m             iteration_range\u001b[39m=\u001b[39;49miteration_range,\n\u001b[1;32m   1558\u001b[0m         )\n\u001b[1;32m   1559\u001b[0m         \u001b[39mif\u001b[39;00m output_margin:\n\u001b[1;32m   1560\u001b[0m             \u001b[39m# If output_margin is active, simply return the scores\u001b[39;00m\n\u001b[1;32m   1561\u001b[0m             \u001b[39mreturn\u001b[39;00m class_probs\n",
      "File \u001b[0;32m/Library/Frameworks/Python.framework/Versions/3.8/lib/python3.8/site-packages/xgboost/sklearn.py:1140\u001b[0m, in \u001b[0;36mXGBModel.predict\u001b[0;34m(self, X, output_margin, ntree_limit, validate_features, base_margin, iteration_range)\u001b[0m\n\u001b[1;32m   1138\u001b[0m \u001b[39mif\u001b[39;00m \u001b[39mself\u001b[39m\u001b[39m.\u001b[39m_can_use_inplace_predict():\n\u001b[1;32m   1139\u001b[0m     \u001b[39mtry\u001b[39;00m:\n\u001b[0;32m-> 1140\u001b[0m         predts \u001b[39m=\u001b[39m \u001b[39mself\u001b[39;49m\u001b[39m.\u001b[39;49mget_booster()\u001b[39m.\u001b[39;49minplace_predict(\n\u001b[1;32m   1141\u001b[0m             data\u001b[39m=\u001b[39;49mX,\n\u001b[1;32m   1142\u001b[0m             iteration_range\u001b[39m=\u001b[39;49miteration_range,\n\u001b[1;32m   1143\u001b[0m             predict_type\u001b[39m=\u001b[39;49m\u001b[39m\"\u001b[39;49m\u001b[39mmargin\u001b[39;49m\u001b[39m\"\u001b[39;49m \u001b[39mif\u001b[39;49;00m output_margin \u001b[39melse\u001b[39;49;00m \u001b[39m\"\u001b[39;49m\u001b[39mvalue\u001b[39;49m\u001b[39m\"\u001b[39;49m,\n\u001b[1;32m   1144\u001b[0m             missing\u001b[39m=\u001b[39;49m\u001b[39mself\u001b[39;49m\u001b[39m.\u001b[39;49mmissing,\n\u001b[1;32m   1145\u001b[0m             base_margin\u001b[39m=\u001b[39;49mbase_margin,\n\u001b[1;32m   1146\u001b[0m             validate_features\u001b[39m=\u001b[39;49mvalidate_features,\n\u001b[1;32m   1147\u001b[0m         )\n\u001b[1;32m   1148\u001b[0m         \u001b[39mif\u001b[39;00m _is_cupy_array(predts):\n\u001b[1;32m   1149\u001b[0m             \u001b[39mimport\u001b[39;00m \u001b[39mcupy\u001b[39;00m  \u001b[39m# pylint: disable=import-error\u001b[39;00m\n",
      "File \u001b[0;32m/Library/Frameworks/Python.framework/Versions/3.8/lib/python3.8/site-packages/xgboost/core.py:2292\u001b[0m, in \u001b[0;36mBooster.inplace_predict\u001b[0;34m(self, data, iteration_range, predict_type, missing, validate_features, base_margin, strict_shape)\u001b[0m\n\u001b[1;32m   2288\u001b[0m     \u001b[39mfrom\u001b[39;00m \u001b[39m.\u001b[39;00m\u001b[39mdata\u001b[39;00m \u001b[39mimport\u001b[39;00m _ensure_np_dtype\n\u001b[1;32m   2290\u001b[0m     data, _ \u001b[39m=\u001b[39m _ensure_np_dtype(data, data\u001b[39m.\u001b[39mdtype)\n\u001b[1;32m   2291\u001b[0m     _check_call(\n\u001b[0;32m-> 2292\u001b[0m         _LIB\u001b[39m.\u001b[39;49mXGBoosterPredictFromDense(\n\u001b[1;32m   2293\u001b[0m             \u001b[39mself\u001b[39;49m\u001b[39m.\u001b[39;49mhandle,\n\u001b[1;32m   2294\u001b[0m             _array_interface(data),\n\u001b[1;32m   2295\u001b[0m             from_pystr_to_cstr(json\u001b[39m.\u001b[39;49mdumps(args)),\n\u001b[1;32m   2296\u001b[0m             p_handle,\n\u001b[1;32m   2297\u001b[0m             ctypes\u001b[39m.\u001b[39;49mbyref(shape),\n\u001b[1;32m   2298\u001b[0m             ctypes\u001b[39m.\u001b[39;49mbyref(dims),\n\u001b[1;32m   2299\u001b[0m             ctypes\u001b[39m.\u001b[39;49mbyref(preds),\n\u001b[1;32m   2300\u001b[0m         )\n\u001b[1;32m   2301\u001b[0m     )\n\u001b[1;32m   2302\u001b[0m     \u001b[39mreturn\u001b[39;00m _prediction_output(shape, dims, preds, \u001b[39mFalse\u001b[39;00m)\n\u001b[1;32m   2303\u001b[0m \u001b[39mif\u001b[39;00m \u001b[39misinstance\u001b[39m(data, scipy\u001b[39m.\u001b[39msparse\u001b[39m.\u001b[39mcsr_matrix):\n",
      "\u001b[0;31mKeyboardInterrupt\u001b[0m: "
     ]
    }
   ],
   "source": [
    "import pandas as pd\n",
    "import matplotlib.pyplot as plt\n",
    "import datetime\n",
    "\n",
    "# Create some example data\n",
    "actual = df_model['mytarget'].tolist()\n",
    "predicted = []\n",
    "for i in range(0, len(X)):\n",
    "    predicted.append(loaded_model.predict(X.iloc[i].to_frame().T)[0])\n",
    "\n",
    "actual = pd.Series(actual)\n",
    "predicted = pd.Series(predicted)\n",
    "\n",
    "# Assuming 'actual' and 'predicted' are two pandas series of equal length\n",
    "df_plot = pd.concat([actual, predicted], axis=1)\n",
    "df_plot.columns = ['Actual', 'Predicted']\n"
   ]
  },
  {
   "cell_type": "code",
   "execution_count": null,
   "metadata": {},
   "outputs": [],
   "source": [
    "df_plot = df_plot.iloc[0:150]"
   ]
  },
  {
   "cell_type": "code",
   "execution_count": null,
   "metadata": {},
   "outputs": [],
   "source": [
    "\n",
    "# Create a list of dates to use as the x-axis\n",
    "dates = [i for i in range(1, len(df_plot) + 1)]\n"
   ]
  },
  {
   "cell_type": "code",
   "execution_count": null,
   "metadata": {},
   "outputs": [
    {
     "data": {
      "text/plain": [
       "150"
      ]
     },
     "execution_count": 92,
     "metadata": {},
     "output_type": "execute_result"
    }
   ],
   "source": [
    "len(dates)"
   ]
  },
  {
   "cell_type": "code",
   "execution_count": null,
   "metadata": {},
   "outputs": [
    {
     "data": {
      "text/plain": [
       "0"
      ]
     },
     "execution_count": 93,
     "metadata": {},
     "output_type": "execute_result"
    }
   ],
   "source": [
    "len(actual)-len(predicted)"
   ]
  },
  {
   "cell_type": "code",
   "execution_count": null,
   "metadata": {},
   "outputs": [
    {
     "data": {
      "image/png": "[encoded data removed]",
      "text/plain": [
       "<Figure size 1000x500 with 1 Axes>"
      ]
     },
     "metadata": {},
     "output_type": "display_data"
    }
   ],
   "source": [
    "\n",
    "# Convert index to datetime object if it's not already in datetime format\n",
    "df_plot.index = dates\n",
    "\n",
    "# Plot the time series graph\n",
    "plt.figure(figsize=(10, 5))\n",
    "plt.plot(df_plot['Actual'], label='Actual')\n",
    "plt.plot(df_plot['Predicted'], label='Predicted')\n",
    "plt.xlabel('Date')\n",
    "plt.ylabel('Price')\n",
    "plt.title('Actual vs Predicted Prices')\n",
    "plt.legend()\n",
    "plt.show()\n"
   ]
  }
 ],
 "metadata": {
  "kernelspec": {
   "display_name": "Python 3.10.7 64-bit",
   "language": "python",
   "name": "python3"
  },
  "language_info": {
   "codemirror_mode": {
    "name": "ipython",
    "version": 3
   },
   "file_extension": ".py",
   "mimetype": "text/x-python",
   "name": "python",
   "nbconvert_exporter": "python",
   "pygments_lexer": "ipython3",
   "version": "3.8.8"
  },
  "vscode": {
   "interpreter": {
    "hash": "aee8b7b246df8f9039afb4144a1f6fd8d2ca17a180786b69acc140d282b71a49"
   }
  }
 },
 "nbformat": 4,
 "nbformat_minor": 2
}
