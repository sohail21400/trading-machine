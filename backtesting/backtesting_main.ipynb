{
 "cells": [
  {
   "cell_type": "code",
   "execution_count": 24,
   "metadata": {},
   "outputs": [],
   "source": [
    "import pandas as pd\n",
    "import os\n",
    "from backtesting import Backtest\n",
    "from strategies.SMACross import SmaCross\n",
    "from strategies.EmaRsiAtrStrategy import EmaRsiAtrStrategy\n",
    "from strategies.VWAP_BB_RSI import VWAP_BB_RSI\n",
    "from strategies.VWAP_BB_RSI_Precomputed import VWAP_BB_RSI_Precomputed, applyIndicators\n",
    "from strategies.VWAP import VWAP\n",
    "from strategies.ML import PredictionStrategy"
   ]
  },
  {
   "cell_type": "code",
   "execution_count": 18,
   "metadata": {},
   "outputs": [],
   "source": [
    "file_name = 'NSE:RELIANCE-EQ 2020-08-01 to 2021-08-03 5m.csv'\n",
    "interval = '5m'\n",
    "strategy = PredictionStrategy\n",
    "start_date = '2021-07-01'\n",
    "end_date = ''"
   ]
  },
  {
   "cell_type": "code",
   "execution_count": 19,
   "metadata": {},
   "outputs": [],
   "source": [
    "# this data is used for folder and file name creation on saving the results\n",
    "strategy_name = strategy.__name__\n",
    "symbol = file_name.split(' ')[0]"
   ]
  },
  {
   "cell_type": "code",
   "execution_count": 20,
   "metadata": {},
   "outputs": [
    {
     "data": {
      "text/html": [
       "<div>\n",
       "<style scoped>\n",
       "    .dataframe tbody tr th:only-of-type {\n",
       "        vertical-align: middle;\n",
       "    }\n",
       "\n",
       "    .dataframe tbody tr th {\n",
       "        vertical-align: top;\n",
       "    }\n",
       "\n",
       "    .dataframe thead th {\n",
       "        text-align: right;\n",
       "    }\n",
       "</style>\n",
       "<table border=\"1\" class=\"dataframe\">\n",
       "  <thead>\n",
       "    <tr style=\"text-align: right;\">\n",
       "      <th></th>\n",
       "      <th>Count</th>\n",
       "      <th>Open</th>\n",
       "      <th>High</th>\n",
       "      <th>Low</th>\n",
       "      <th>Close</th>\n",
       "      <th>Volume</th>\n",
       "    </tr>\n",
       "    <tr>\n",
       "      <th>Date</th>\n",
       "      <th></th>\n",
       "      <th></th>\n",
       "      <th></th>\n",
       "      <th></th>\n",
       "      <th></th>\n",
       "      <th></th>\n",
       "    </tr>\n",
       "  </thead>\n",
       "  <tbody>\n",
       "    <tr>\n",
       "      <th>2021-08-03 15:05:00</th>\n",
       "      <td>18731</td>\n",
       "      <td>2085.45</td>\n",
       "      <td>2087.00</td>\n",
       "      <td>2084.80</td>\n",
       "      <td>2085.05</td>\n",
       "      <td>148374</td>\n",
       "    </tr>\n",
       "    <tr>\n",
       "      <th>2021-08-03 15:10:00</th>\n",
       "      <td>18732</td>\n",
       "      <td>2084.60</td>\n",
       "      <td>2085.75</td>\n",
       "      <td>2084.00</td>\n",
       "      <td>2085.65</td>\n",
       "      <td>169357</td>\n",
       "    </tr>\n",
       "    <tr>\n",
       "      <th>2021-08-03 15:15:00</th>\n",
       "      <td>18733</td>\n",
       "      <td>2085.60</td>\n",
       "      <td>2090.90</td>\n",
       "      <td>2085.00</td>\n",
       "      <td>2090.00</td>\n",
       "      <td>254454</td>\n",
       "    </tr>\n",
       "    <tr>\n",
       "      <th>2021-08-03 15:20:00</th>\n",
       "      <td>18734</td>\n",
       "      <td>2090.05</td>\n",
       "      <td>2091.00</td>\n",
       "      <td>2088.55</td>\n",
       "      <td>2089.80</td>\n",
       "      <td>463843</td>\n",
       "    </tr>\n",
       "    <tr>\n",
       "      <th>2021-08-03 15:25:00</th>\n",
       "      <td>18735</td>\n",
       "      <td>2089.70</td>\n",
       "      <td>2091.00</td>\n",
       "      <td>2088.75</td>\n",
       "      <td>2090.45</td>\n",
       "      <td>219968</td>\n",
       "    </tr>\n",
       "  </tbody>\n",
       "</table>\n",
       "</div>"
      ],
      "text/plain": [
       "                     Count     Open     High      Low    Close  Volume\n",
       "Date                                                                  \n",
       "2021-08-03 15:05:00  18731  2085.45  2087.00  2084.80  2085.05  148374\n",
       "2021-08-03 15:10:00  18732  2084.60  2085.75  2084.00  2085.65  169357\n",
       "2021-08-03 15:15:00  18733  2085.60  2090.90  2085.00  2090.00  254454\n",
       "2021-08-03 15:20:00  18734  2090.05  2091.00  2088.55  2089.80  463843\n",
       "2021-08-03 15:25:00  18735  2089.70  2091.00  2088.75  2090.45  219968"
      ]
     },
     "execution_count": 20,
     "metadata": {},
     "output_type": "execute_result"
    }
   ],
   "source": [
    "\n",
    "data = pd.read_csv(f'../data/{symbol}/{file_name}',\n",
    "                   parse_dates=True, \n",
    "                   index_col=\"Date\"\n",
    "                   )\n",
    "\n",
    "# data = pd.read_csv(\"/Users/sohail21400/Desktop/trading_machine/data/EURUSD/EURUSD_Candlestick_4_Hour_ASK_05.05.2003-16.10.2021.csv\")\n",
    "\n",
    "data.index = pd.to_datetime(data.index, format=\"%Y-%m-%d %H:%M:%S\")\n",
    "data.tail()"
   ]
  },
  {
   "cell_type": "code",
   "execution_count": 21,
   "metadata": {},
   "outputs": [
    {
     "name": "stdout",
     "output_type": "stream",
     "text": [
      "Total lenght of data: 1725\n"
     ]
    },
    {
     "data": {
      "text/html": [
       "<div>\n",
       "<style scoped>\n",
       "    .dataframe tbody tr th:only-of-type {\n",
       "        vertical-align: middle;\n",
       "    }\n",
       "\n",
       "    .dataframe tbody tr th {\n",
       "        vertical-align: top;\n",
       "    }\n",
       "\n",
       "    .dataframe thead th {\n",
       "        text-align: right;\n",
       "    }\n",
       "</style>\n",
       "<table border=\"1\" class=\"dataframe\">\n",
       "  <thead>\n",
       "    <tr style=\"text-align: right;\">\n",
       "      <th></th>\n",
       "      <th>Count</th>\n",
       "      <th>Open</th>\n",
       "      <th>High</th>\n",
       "      <th>Low</th>\n",
       "      <th>Close</th>\n",
       "      <th>Volume</th>\n",
       "    </tr>\n",
       "    <tr>\n",
       "      <th>Date</th>\n",
       "      <th></th>\n",
       "      <th></th>\n",
       "      <th></th>\n",
       "      <th></th>\n",
       "      <th></th>\n",
       "      <th></th>\n",
       "    </tr>\n",
       "  </thead>\n",
       "  <tbody>\n",
       "    <tr>\n",
       "      <th>2021-07-01 09:15:00</th>\n",
       "      <td>17011</td>\n",
       "      <td>2118.00</td>\n",
       "      <td>2123.15</td>\n",
       "      <td>2112.00</td>\n",
       "      <td>2114.00</td>\n",
       "      <td>392878</td>\n",
       "    </tr>\n",
       "    <tr>\n",
       "      <th>2021-07-01 09:20:00</th>\n",
       "      <td>17012</td>\n",
       "      <td>2114.15</td>\n",
       "      <td>2121.00</td>\n",
       "      <td>2113.10</td>\n",
       "      <td>2119.00</td>\n",
       "      <td>282505</td>\n",
       "    </tr>\n",
       "    <tr>\n",
       "      <th>2021-07-01 09:25:00</th>\n",
       "      <td>17013</td>\n",
       "      <td>2119.80</td>\n",
       "      <td>2119.80</td>\n",
       "      <td>2115.00</td>\n",
       "      <td>2115.60</td>\n",
       "      <td>84073</td>\n",
       "    </tr>\n",
       "    <tr>\n",
       "      <th>2021-07-01 09:30:00</th>\n",
       "      <td>17014</td>\n",
       "      <td>2115.60</td>\n",
       "      <td>2115.60</td>\n",
       "      <td>2111.10</td>\n",
       "      <td>2114.40</td>\n",
       "      <td>90920</td>\n",
       "    </tr>\n",
       "    <tr>\n",
       "      <th>2021-07-01 09:35:00</th>\n",
       "      <td>17015</td>\n",
       "      <td>2114.40</td>\n",
       "      <td>2117.05</td>\n",
       "      <td>2113.05</td>\n",
       "      <td>2113.90</td>\n",
       "      <td>74613</td>\n",
       "    </tr>\n",
       "    <tr>\n",
       "      <th>...</th>\n",
       "      <td>...</td>\n",
       "      <td>...</td>\n",
       "      <td>...</td>\n",
       "      <td>...</td>\n",
       "      <td>...</td>\n",
       "      <td>...</td>\n",
       "    </tr>\n",
       "    <tr>\n",
       "      <th>2021-08-03 15:05:00</th>\n",
       "      <td>18731</td>\n",
       "      <td>2085.45</td>\n",
       "      <td>2087.00</td>\n",
       "      <td>2084.80</td>\n",
       "      <td>2085.05</td>\n",
       "      <td>148374</td>\n",
       "    </tr>\n",
       "    <tr>\n",
       "      <th>2021-08-03 15:10:00</th>\n",
       "      <td>18732</td>\n",
       "      <td>2084.60</td>\n",
       "      <td>2085.75</td>\n",
       "      <td>2084.00</td>\n",
       "      <td>2085.65</td>\n",
       "      <td>169357</td>\n",
       "    </tr>\n",
       "    <tr>\n",
       "      <th>2021-08-03 15:15:00</th>\n",
       "      <td>18733</td>\n",
       "      <td>2085.60</td>\n",
       "      <td>2090.90</td>\n",
       "      <td>2085.00</td>\n",
       "      <td>2090.00</td>\n",
       "      <td>254454</td>\n",
       "    </tr>\n",
       "    <tr>\n",
       "      <th>2021-08-03 15:20:00</th>\n",
       "      <td>18734</td>\n",
       "      <td>2090.05</td>\n",
       "      <td>2091.00</td>\n",
       "      <td>2088.55</td>\n",
       "      <td>2089.80</td>\n",
       "      <td>463843</td>\n",
       "    </tr>\n",
       "    <tr>\n",
       "      <th>2021-08-03 15:25:00</th>\n",
       "      <td>18735</td>\n",
       "      <td>2089.70</td>\n",
       "      <td>2091.00</td>\n",
       "      <td>2088.75</td>\n",
       "      <td>2090.45</td>\n",
       "      <td>219968</td>\n",
       "    </tr>\n",
       "  </tbody>\n",
       "</table>\n",
       "<p>1725 rows × 6 columns</p>\n",
       "</div>"
      ],
      "text/plain": [
       "                     Count     Open     High      Low    Close  Volume\n",
       "Date                                                                  \n",
       "2021-07-01 09:15:00  17011  2118.00  2123.15  2112.00  2114.00  392878\n",
       "2021-07-01 09:20:00  17012  2114.15  2121.00  2113.10  2119.00  282505\n",
       "2021-07-01 09:25:00  17013  2119.80  2119.80  2115.00  2115.60   84073\n",
       "2021-07-01 09:30:00  17014  2115.60  2115.60  2111.10  2114.40   90920\n",
       "2021-07-01 09:35:00  17015  2114.40  2117.05  2113.05  2113.90   74613\n",
       "...                    ...      ...      ...      ...      ...     ...\n",
       "2021-08-03 15:05:00  18731  2085.45  2087.00  2084.80  2085.05  148374\n",
       "2021-08-03 15:10:00  18732  2084.60  2085.75  2084.00  2085.65  169357\n",
       "2021-08-03 15:15:00  18733  2085.60  2090.90  2085.00  2090.00  254454\n",
       "2021-08-03 15:20:00  18734  2090.05  2091.00  2088.55  2089.80  463843\n",
       "2021-08-03 15:25:00  18735  2089.70  2091.00  2088.75  2090.45  219968\n",
       "\n",
       "[1725 rows x 6 columns]"
      ]
     },
     "execution_count": 21,
     "metadata": {},
     "output_type": "execute_result"
    }
   ],
   "source": [
    "if start_date != '':\n",
    "    data = data.loc[start_date:]\n",
    "if end_date != '':\n",
    "    data = data.loc[:end_date]\n",
    "\n",
    "print(f\"Total lenght of data: {len(data)}\")\n",
    "data"
   ]
  },
  {
   "cell_type": "code",
   "execution_count": 23,
   "metadata": {},
   "outputs": [
    {
     "ename": "RuntimeError",
     "evalue": "Indicator \"MA40\" errored with exception: sma() missing 1 required positional argument: 'close'",
     "output_type": "error",
     "traceback": [
      "\u001b[0;31m---------------------------------------------------------------------------\u001b[0m",
      "\u001b[0;31mTypeError\u001b[0m                                 Traceback (most recent call last)",
      "File \u001b[0;32m/Library/Frameworks/Python.framework/Versions/3.8/lib/python3.8/site-packages/backtesting/backtesting.py:127\u001b[0m, in \u001b[0;36mStrategy.I\u001b[0;34m(self, func, name, plot, overlay, color, scatter, *args, **kwargs)\u001b[0m\n\u001b[1;32m    126\u001b[0m \u001b[39mtry\u001b[39;00m:\n\u001b[0;32m--> 127\u001b[0m     value \u001b[39m=\u001b[39m func(\u001b[39m*\u001b[39;49margs, \u001b[39m*\u001b[39;49m\u001b[39m*\u001b[39;49mkwargs)\n\u001b[1;32m    128\u001b[0m \u001b[39mexcept\u001b[39;00m \u001b[39mException\u001b[39;00m \u001b[39mas\u001b[39;00m e:\n",
      "\u001b[0;31mTypeError\u001b[0m: sma() missing 1 required positional argument: 'close'",
      "\nDuring handling of the above exception, another exception occurred:\n",
      "\u001b[0;31mRuntimeError\u001b[0m                              Traceback (most recent call last)",
      "Cell \u001b[0;32mIn [23], line 24\u001b[0m\n\u001b[1;32m      8\u001b[0m bt \u001b[39m=\u001b[39m Backtest(\n\u001b[1;32m      9\u001b[0m     data,\n\u001b[1;32m     10\u001b[0m     strategy,\n\u001b[0;32m   (...)\u001b[0m\n\u001b[1;32m     16\u001b[0m     exclusive_orders\u001b[39m=\u001b[39mexclusive_orders,\n\u001b[1;32m     17\u001b[0m )\n\u001b[1;32m     19\u001b[0m \u001b[39m# stats = bt.run(\u001b[39;00m\n\u001b[1;32m     20\u001b[0m \u001b[39m#   sma_length1=5,\u001b[39;00m\n\u001b[1;32m     21\u001b[0m \u001b[39m#   sma_length2=10,\u001b[39;00m\n\u001b[1;32m     22\u001b[0m \u001b[39m#   atr_length=7,\u001b[39;00m\n\u001b[1;32m     23\u001b[0m \u001b[39m#  )\u001b[39;00m\n\u001b[0;32m---> 24\u001b[0m stats \u001b[39m=\u001b[39m bt\u001b[39m.\u001b[39;49moptimize(\n\u001b[1;32m     25\u001b[0m     sma_length1 \u001b[39m=\u001b[39;49m \u001b[39mrange\u001b[39;49m(\u001b[39m5\u001b[39;49m, \u001b[39m30\u001b[39;49m, \u001b[39m5\u001b[39;49m),\n\u001b[1;32m     26\u001b[0m     sma_length2 \u001b[39m=\u001b[39;49m \u001b[39mrange\u001b[39;49m(\u001b[39m10\u001b[39;49m, \u001b[39m45\u001b[39;49m, \u001b[39m5\u001b[39;49m),\n\u001b[1;32m     27\u001b[0m     \u001b[39m# bband_length = range(10, 20, 2),\u001b[39;49;00m\n\u001b[1;32m     28\u001b[0m     \u001b[39m# bband_std = range(1, 3, 1),\u001b[39;49;00m\n\u001b[1;32m     29\u001b[0m     \u001b[39m# rsi_length = range(10, 20, 2),\u001b[39;49;00m\n\u001b[1;32m     30\u001b[0m     \u001b[39m# vwap_signal_length = range(10, 20, 2),\u001b[39;49;00m\n\u001b[1;32m     31\u001b[0m     atr_length \u001b[39m=\u001b[39;49m \u001b[39mrange\u001b[39;49m(\u001b[39m5\u001b[39;49m, \u001b[39m16\u001b[39;49m, \u001b[39m2\u001b[39;49m),\n\u001b[1;32m     32\u001b[0m     \u001b[39m# maximize='Return [%]'\u001b[39;49;00m\n\u001b[1;32m     33\u001b[0m )\n\u001b[1;32m     35\u001b[0m stats\n",
      "File \u001b[0;32m/Library/Frameworks/Python.framework/Versions/3.8/lib/python3.8/site-packages/backtesting/backtesting.py:1277\u001b[0m, in \u001b[0;36mBacktest.optimize\u001b[0;34m(self, maximize, method, max_tries, constraint, return_heatmap, return_optimization, random_state, **kwargs)\u001b[0m\n\u001b[1;32m   1275\u001b[0m \u001b[39mif\u001b[39;00m \u001b[39misinstance\u001b[39m(maximize, \u001b[39mstr\u001b[39m):\n\u001b[1;32m   1276\u001b[0m     maximize_key \u001b[39m=\u001b[39m \u001b[39mstr\u001b[39m(maximize)\n\u001b[0;32m-> 1277\u001b[0m     stats \u001b[39m=\u001b[39m \u001b[39mself\u001b[39m\u001b[39m.\u001b[39m_results \u001b[39mif\u001b[39;00m \u001b[39mself\u001b[39m\u001b[39m.\u001b[39m_results \u001b[39mis\u001b[39;00m \u001b[39mnot\u001b[39;00m \u001b[39mNone\u001b[39;00m \u001b[39melse\u001b[39;00m \u001b[39mself\u001b[39;49m\u001b[39m.\u001b[39;49mrun()\n\u001b[1;32m   1278\u001b[0m     \u001b[39mif\u001b[39;00m maximize \u001b[39mnot\u001b[39;00m \u001b[39min\u001b[39;00m stats:\n\u001b[1;32m   1279\u001b[0m         \u001b[39mraise\u001b[39;00m \u001b[39mValueError\u001b[39;00m(\u001b[39m'\u001b[39m\u001b[39m`maximize`, if str, must match a key in pd.Series \u001b[39m\u001b[39m'\u001b[39m\n\u001b[1;32m   1280\u001b[0m                          \u001b[39m'\u001b[39m\u001b[39mresult of backtest.run()\u001b[39m\u001b[39m'\u001b[39m)\n",
      "File \u001b[0;32m/Library/Frameworks/Python.framework/Versions/3.8/lib/python3.8/site-packages/backtesting/backtesting.py:1139\u001b[0m, in \u001b[0;36mBacktest.run\u001b[0;34m(self, **kwargs)\u001b[0m\n\u001b[1;32m   1136\u001b[0m broker: _Broker \u001b[39m=\u001b[39m \u001b[39mself\u001b[39m\u001b[39m.\u001b[39m_broker(data\u001b[39m=\u001b[39mdata)\n\u001b[1;32m   1137\u001b[0m strategy: Strategy \u001b[39m=\u001b[39m \u001b[39mself\u001b[39m\u001b[39m.\u001b[39m_strategy(broker, data, kwargs)\n\u001b[0;32m-> 1139\u001b[0m strategy\u001b[39m.\u001b[39;49minit()\n\u001b[1;32m   1140\u001b[0m data\u001b[39m.\u001b[39m_update()  \u001b[39m# Strategy.init might have changed/added to data.df\u001b[39;00m\n\u001b[1;32m   1142\u001b[0m \u001b[39m# Indicators used in Strategy.next()\u001b[39;00m\n",
      "File \u001b[0;32m~/Desktop/trading_machine/backtesting/strategies/ML.py:44\u001b[0m, in \u001b[0;36mPredictionStrategy.init\u001b[0;34m(self)\u001b[0m\n\u001b[1;32m     38\u001b[0m \u001b[39mself\u001b[39m\u001b[39m.\u001b[39matr \u001b[39m=\u001b[39m \u001b[39mself\u001b[39m\u001b[39m.\u001b[39mI(ta\u001b[39m.\u001b[39matr,\n\u001b[1;32m     39\u001b[0m                   high\u001b[39m=\u001b[39mhigh, low\u001b[39m=\u001b[39mlow, close\u001b[39m=\u001b[39mclose, length\u001b[39m=\u001b[39m\u001b[39mself\u001b[39m\u001b[39m.\u001b[39matr_length,\n\u001b[1;32m     40\u001b[0m                   name\u001b[39m=\u001b[39m\u001b[39m'\u001b[39m\u001b[39mATR\u001b[39m\u001b[39m'\u001b[39m)\n\u001b[1;32m     41\u001b[0m \u001b[39mself\u001b[39m\u001b[39m.\u001b[39maverage \u001b[39m=\u001b[39m \u001b[39mself\u001b[39m\u001b[39m.\u001b[39mI(ta\u001b[39m.\u001b[39mmidprice,\n\u001b[1;32m     42\u001b[0m                       high\u001b[39m=\u001b[39mhigh, low\u001b[39m=\u001b[39mlow, length\u001b[39m=\u001b[39m\u001b[39m1\u001b[39m, talib\u001b[39m=\u001b[39m\u001b[39mFalse\u001b[39;00m,\n\u001b[1;32m     43\u001b[0m                       name\u001b[39m=\u001b[39m\u001b[39m'\u001b[39m\u001b[39mAverage\u001b[39m\u001b[39m'\u001b[39m)\n\u001b[0;32m---> 44\u001b[0m \u001b[39mself\u001b[39m\u001b[39m.\u001b[39mma40 \u001b[39m=\u001b[39m \u001b[39mself\u001b[39;49m\u001b[39m.\u001b[39;49mI(ta\u001b[39m.\u001b[39;49msma,\n\u001b[1;32m     45\u001b[0m                    length\u001b[39m=\u001b[39;49m\u001b[39m40\u001b[39;49m,\n\u001b[1;32m     46\u001b[0m                    name\u001b[39m=\u001b[39;49m\u001b[39m'\u001b[39;49m\u001b[39mMA40\u001b[39;49m\u001b[39m'\u001b[39;49m)\n\u001b[1;32m     48\u001b[0m \u001b[39mself\u001b[39m\u001b[39m.\u001b[39mma80 \u001b[39m=\u001b[39m \u001b[39mself\u001b[39m\u001b[39m.\u001b[39mI(ta\u001b[39m.\u001b[39msma,\n\u001b[1;32m     49\u001b[0m                    length\u001b[39m=\u001b[39m\u001b[39m80\u001b[39m,\n\u001b[1;32m     50\u001b[0m                    name\u001b[39m=\u001b[39m\u001b[39m'\u001b[39m\u001b[39mMA80\u001b[39m\u001b[39m'\u001b[39m)\n\u001b[1;32m     51\u001b[0m \u001b[39mself\u001b[39m\u001b[39m.\u001b[39mma160 \u001b[39m=\u001b[39m \u001b[39mself\u001b[39m\u001b[39m.\u001b[39mI(ta\u001b[39m.\u001b[39msma,\n\u001b[1;32m     52\u001b[0m                     length\u001b[39m=\u001b[39m\u001b[39m160\u001b[39m,\n\u001b[1;32m     53\u001b[0m                     name\u001b[39m=\u001b[39m\u001b[39m'\u001b[39m\u001b[39mMA160\u001b[39m\u001b[39m'\u001b[39m)\n",
      "File \u001b[0;32m/Library/Frameworks/Python.framework/Versions/3.8/lib/python3.8/site-packages/backtesting/backtesting.py:129\u001b[0m, in \u001b[0;36mStrategy.I\u001b[0;34m(self, func, name, plot, overlay, color, scatter, *args, **kwargs)\u001b[0m\n\u001b[1;32m    127\u001b[0m     value \u001b[39m=\u001b[39m func(\u001b[39m*\u001b[39margs, \u001b[39m*\u001b[39m\u001b[39m*\u001b[39mkwargs)\n\u001b[1;32m    128\u001b[0m \u001b[39mexcept\u001b[39;00m \u001b[39mException\u001b[39;00m \u001b[39mas\u001b[39;00m e:\n\u001b[0;32m--> 129\u001b[0m     \u001b[39mraise\u001b[39;00m \u001b[39mRuntimeError\u001b[39;00m(\u001b[39mf\u001b[39m\u001b[39m'\u001b[39m\u001b[39mIndicator \u001b[39m\u001b[39m\"\u001b[39m\u001b[39m{\u001b[39;00mname\u001b[39m}\u001b[39;00m\u001b[39m\"\u001b[39m\u001b[39m errored with exception: \u001b[39m\u001b[39m{\u001b[39;00me\u001b[39m}\u001b[39;00m\u001b[39m'\u001b[39m)\n\u001b[1;32m    131\u001b[0m \u001b[39mif\u001b[39;00m \u001b[39misinstance\u001b[39m(value, pd\u001b[39m.\u001b[39mDataFrame):\n\u001b[1;32m    132\u001b[0m     value \u001b[39m=\u001b[39m value\u001b[39m.\u001b[39mvalues\u001b[39m.\u001b[39mT\n",
      "\u001b[0;31mRuntimeError\u001b[0m: Indicator \"MA40\" errored with exception: sma() missing 1 required positional argument: 'close'"
     ]
    }
   ],
   "source": [
    "cash = 10_000\n",
    "commission = 0.002\n",
    "margin = 1.0\n",
    "trade_on_close = False\n",
    "hedging = False\n",
    "exclusive_orders = False\n",
    "\n",
    "bt = Backtest(\n",
    "    data,\n",
    "    strategy,\n",
    "    cash=cash,\n",
    "    # commission=commission,\n",
    "    margin=margin,\n",
    "    trade_on_close=trade_on_close,\n",
    "    hedging=hedging,\n",
    "    exclusive_orders=exclusive_orders,\n",
    ")\n",
    "\n",
    "# stats = bt.run(\n",
    "#   sma_length1=5,\n",
    "#   sma_length2=10,\n",
    "#   atr_length=7,\n",
    "#  )\n",
    "stats = bt.optimize(\n",
    "    sma_length1 = range(5, 30, 5),\n",
    "    sma_length2 = range(10, 45, 5),\n",
    "    # bband_length = range(10, 20, 2),\n",
    "    # bband_std = range(1, 3, 1),\n",
    "    # rsi_length = range(10, 20, 2),\n",
    "    # vwap_signal_length = range(10, 20, 2),\n",
    "    atr_length = range(5, 16, 2),\n",
    "    # maximize='Return [%]'\n",
    ")\n",
    "\n",
    "stats"
   ]
  },
  {
   "cell_type": "code",
   "execution_count": null,
   "metadata": {},
   "outputs": [
    {
     "data": {
      "text/plain": [
       "<Strategy SmaCross(sma_length1=5,sma_length2=10,atr_length=7)>"
      ]
     },
     "execution_count": 13,
     "metadata": {},
     "output_type": "execute_result"
    }
   ],
   "source": [
    "stats[\"_strategy\"]"
   ]
  },
  {
   "cell_type": "code",
   "execution_count": null,
   "metadata": {},
   "outputs": [],
   "source": [
    "# saving the data to a csv file\n",
    "if not os.path.isdir(f'./results/{strategy_name}'):\n",
    "    print(f'Created directory for {strategy_name}')\n",
    "    os.mkdir(f'./results/{strategy_name}')\n",
    "    \n",
    "if not os.path.isdir(f'./results/{strategy_name}/{symbol}'):\n",
    "    print(f'Created directory for {symbol}')\n",
    "    os.mkdir(f'./results/{strategy_name}/{symbol}')\n",
    "\n",
    "base_url = f'./results/{strategy_name}/{symbol}/{interval}'\n",
    "# saving trade records\n",
    "stats['_trades'].to_csv(f'{base_url}_trades.csv')\n",
    "\n",
    "# saving equity curve\n",
    "stats['_equity_curve'].to_csv(f'{base_url}_equity_curve.csv')"
   ]
  },
  {
   "cell_type": "code",
   "execution_count": null,
   "metadata": {},
   "outputs": [],
   "source": [
    "\n",
    "# saving backtesting results\n",
    "trade_index = stats[stats.index == '_trades'].index\n",
    "stats = stats.drop(trade_index)\n",
    "equity_index = stats[stats.index == '_equity_curve'].index\n",
    "stats = stats.drop(equity_index)\n",
    "\n",
    "stats.to_csv(f'{base_url}_results.csv')"
   ]
  },
  {
   "cell_type": "code",
   "execution_count": null,
   "metadata": {},
   "outputs": [
    {
     "name": "stderr",
     "output_type": "stream",
     "text": [
      "0:123: execution error: File some object wasn’t found. (-43)\n"
     ]
    },
    {
     "data": {
      "text/html": [
       "<div style=\"display: table;\"><div style=\"display: table-row;\"><div style=\"display: table-cell;\"><b title=\"bokeh.models.layouts.Row\">Row</b>(</div><div style=\"display: table-cell;\">id&nbsp;=&nbsp;'1516', <span id=\"2247\" style=\"cursor: pointer;\">&hellip;)</span></div></div><div class=\"2246\" style=\"display: none;\"><div style=\"display: table-cell;\"></div><div style=\"display: table-cell;\">align&nbsp;=&nbsp;'start',</div></div><div class=\"2246\" style=\"display: none;\"><div style=\"display: table-cell;\"></div><div style=\"display: table-cell;\">aspect_ratio&nbsp;=&nbsp;None,</div></div><div class=\"2246\" style=\"display: none;\"><div style=\"display: table-cell;\"></div><div style=\"display: table-cell;\">background&nbsp;=&nbsp;None,</div></div><div class=\"2246\" style=\"display: none;\"><div style=\"display: table-cell;\"></div><div style=\"display: table-cell;\">children&nbsp;=&nbsp;[GridBox(id='1513', ...), ToolbarBox(id='1515', ...)],</div></div><div class=\"2246\" style=\"display: none;\"><div style=\"display: table-cell;\"></div><div style=\"display: table-cell;\">cols&nbsp;=&nbsp;'auto',</div></div><div class=\"2246\" style=\"display: none;\"><div style=\"display: table-cell;\"></div><div style=\"display: table-cell;\">css_classes&nbsp;=&nbsp;[],</div></div><div class=\"2246\" style=\"display: none;\"><div style=\"display: table-cell;\"></div><div style=\"display: table-cell;\">disabled&nbsp;=&nbsp;False,</div></div><div class=\"2246\" style=\"display: none;\"><div style=\"display: table-cell;\"></div><div style=\"display: table-cell;\">height&nbsp;=&nbsp;None,</div></div><div class=\"2246\" style=\"display: none;\"><div style=\"display: table-cell;\"></div><div style=\"display: table-cell;\">height_policy&nbsp;=&nbsp;'auto',</div></div><div class=\"2246\" style=\"display: none;\"><div style=\"display: table-cell;\"></div><div style=\"display: table-cell;\">js_event_callbacks&nbsp;=&nbsp;{},</div></div><div class=\"2246\" style=\"display: none;\"><div style=\"display: table-cell;\"></div><div style=\"display: table-cell;\">js_property_callbacks&nbsp;=&nbsp;{},</div></div><div class=\"2246\" style=\"display: none;\"><div style=\"display: table-cell;\"></div><div style=\"display: table-cell;\">margin&nbsp;=&nbsp;(0, 0, 0, 0),</div></div><div class=\"2246\" style=\"display: none;\"><div style=\"display: table-cell;\"></div><div style=\"display: table-cell;\">max_height&nbsp;=&nbsp;None,</div></div><div class=\"2246\" style=\"display: none;\"><div style=\"display: table-cell;\"></div><div style=\"display: table-cell;\">max_width&nbsp;=&nbsp;None,</div></div><div class=\"2246\" style=\"display: none;\"><div style=\"display: table-cell;\"></div><div style=\"display: table-cell;\">min_height&nbsp;=&nbsp;None,</div></div><div class=\"2246\" style=\"display: none;\"><div style=\"display: table-cell;\"></div><div style=\"display: table-cell;\">min_width&nbsp;=&nbsp;None,</div></div><div class=\"2246\" style=\"display: none;\"><div style=\"display: table-cell;\"></div><div style=\"display: table-cell;\">name&nbsp;=&nbsp;None,</div></div><div class=\"2246\" style=\"display: none;\"><div style=\"display: table-cell;\"></div><div style=\"display: table-cell;\">sizing_mode&nbsp;=&nbsp;'stretch_width',</div></div><div class=\"2246\" style=\"display: none;\"><div style=\"display: table-cell;\"></div><div style=\"display: table-cell;\">spacing&nbsp;=&nbsp;0,</div></div><div class=\"2246\" style=\"display: none;\"><div style=\"display: table-cell;\"></div><div style=\"display: table-cell;\">subscribed_events&nbsp;=&nbsp;[],</div></div><div class=\"2246\" style=\"display: none;\"><div style=\"display: table-cell;\"></div><div style=\"display: table-cell;\">syncable&nbsp;=&nbsp;True,</div></div><div class=\"2246\" style=\"display: none;\"><div style=\"display: table-cell;\"></div><div style=\"display: table-cell;\">tags&nbsp;=&nbsp;[],</div></div><div class=\"2246\" style=\"display: none;\"><div style=\"display: table-cell;\"></div><div style=\"display: table-cell;\">visible&nbsp;=&nbsp;True,</div></div><div class=\"2246\" style=\"display: none;\"><div style=\"display: table-cell;\"></div><div style=\"display: table-cell;\">width&nbsp;=&nbsp;None,</div></div><div class=\"2246\" style=\"display: none;\"><div style=\"display: table-cell;\"></div><div style=\"display: table-cell;\">width_policy&nbsp;=&nbsp;'auto')</div></div></div>\n",
       "<script>\n",
       "(function() {\n",
       "  let expanded = false;\n",
       "  const ellipsis = document.getElementById(\"2247\");\n",
       "  ellipsis.addEventListener(\"click\", function() {\n",
       "    const rows = document.getElementsByClassName(\"2246\");\n",
       "    for (let i = 0; i < rows.length; i++) {\n",
       "      const el = rows[i];\n",
       "      el.style.display = expanded ? \"none\" : \"table-row\";\n",
       "    }\n",
       "    ellipsis.innerHTML = expanded ? \"&hellip;)\" : \"&lsaquo;&lsaquo;&lsaquo;\";\n",
       "    expanded = !expanded;\n",
       "  });\n",
       "})();\n",
       "</script>\n"
      ],
      "text/plain": [
       "Row(id='1516', ...)"
      ]
     },
     "execution_count": 16,
     "metadata": {},
     "output_type": "execute_result"
    }
   ],
   "source": [
    "bt.plot(filename=f'{base_url}_plot.html')"
   ]
  }
 ],
 "metadata": {
  "kernelspec": {
   "display_name": "Python 3.8.8 64-bit",
   "language": "python",
   "name": "python3"
  },
  "language_info": {
   "codemirror_mode": {
    "name": "ipython",
    "version": 3
   },
   "file_extension": ".py",
   "mimetype": "text/x-python",
   "name": "python",
   "nbconvert_exporter": "python",
   "pygments_lexer": "ipython3",
   "version": "3.8.8"
  },
  "orig_nbformat": 4,
  "vscode": {
   "interpreter": {
    "hash": "aee8b7b246df8f9039afb4144a1f6fd8d2ca17a180786b69acc140d282b71a49"
   }
  }
 },
 "nbformat": 4,
 "nbformat_minor": 2
}
